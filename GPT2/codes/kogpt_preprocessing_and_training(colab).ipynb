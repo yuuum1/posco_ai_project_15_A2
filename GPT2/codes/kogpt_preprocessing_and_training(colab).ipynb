{
  "nbformat": 4,
  "nbformat_minor": 0,
  "metadata": {
    "colab": {
      "name": "kogpt_preprocessing_and_training.ipynb",
      "provenance": [],
      "collapsed_sections": []
    },
    "kernelspec": {
      "name": "python3",
      "display_name": "Python 3"
    },
    "language_info": {
      "name": "python"
    },
    "widgets": {
      "application/vnd.jupyter.widget-state+json": {
        "fa0c7e593a84481a9380002bbb65fff3": {
          "model_module": "@jupyter-widgets/controls",
          "model_name": "HBoxModel",
          "model_module_version": "1.5.0",
          "state": {
            "_view_name": "HBoxView",
            "_dom_classes": [],
            "_model_name": "HBoxModel",
            "_view_module": "@jupyter-widgets/controls",
            "_model_module_version": "1.5.0",
            "_view_count": null,
            "_view_module_version": "1.5.0",
            "box_style": "",
            "layout": "IPY_MODEL_a9fe2964cccc48c0bf2b034b6fb24767",
            "_model_module": "@jupyter-widgets/controls",
            "children": [
              "IPY_MODEL_520b2b1d390f45a6ab5a46dce8d6c3c1",
              "IPY_MODEL_fea59e999c784a37bc6426d5b4040344",
              "IPY_MODEL_c3d1aef6d3564707af4c7f8ae7806e7f"
            ]
          }
        },
        "a9fe2964cccc48c0bf2b034b6fb24767": {
          "model_module": "@jupyter-widgets/base",
          "model_name": "LayoutModel",
          "model_module_version": "1.2.0",
          "state": {
            "_view_name": "LayoutView",
            "grid_template_rows": null,
            "right": null,
            "justify_content": null,
            "_view_module": "@jupyter-widgets/base",
            "overflow": null,
            "_model_module_version": "1.2.0",
            "_view_count": null,
            "flex_flow": null,
            "width": null,
            "min_width": null,
            "border": null,
            "align_items": null,
            "bottom": null,
            "_model_module": "@jupyter-widgets/base",
            "top": null,
            "grid_column": null,
            "overflow_y": null,
            "overflow_x": null,
            "grid_auto_flow": null,
            "grid_area": null,
            "grid_template_columns": null,
            "flex": null,
            "_model_name": "LayoutModel",
            "justify_items": null,
            "grid_row": null,
            "max_height": null,
            "align_content": null,
            "visibility": null,
            "align_self": null,
            "height": null,
            "min_height": null,
            "padding": null,
            "grid_auto_rows": null,
            "grid_gap": null,
            "max_width": null,
            "order": null,
            "_view_module_version": "1.2.0",
            "grid_template_areas": null,
            "object_position": null,
            "object_fit": null,
            "grid_auto_columns": null,
            "margin": null,
            "display": null,
            "left": null
          }
        },
        "520b2b1d390f45a6ab5a46dce8d6c3c1": {
          "model_module": "@jupyter-widgets/controls",
          "model_name": "HTMLModel",
          "model_module_version": "1.5.0",
          "state": {
            "_view_name": "HTMLView",
            "style": "IPY_MODEL_d30a25dd8e704e849e7f03e5f1e2499c",
            "_dom_classes": [],
            "description": "",
            "_model_name": "HTMLModel",
            "placeholder": "​",
            "_view_module": "@jupyter-widgets/controls",
            "_model_module_version": "1.5.0",
            "value": "Downloading: 100%",
            "_view_count": null,
            "_view_module_version": "1.5.0",
            "description_tooltip": null,
            "_model_module": "@jupyter-widgets/controls",
            "layout": "IPY_MODEL_542c52a7ff594e1ca78103bca2d7c3e5"
          }
        },
        "fea59e999c784a37bc6426d5b4040344": {
          "model_module": "@jupyter-widgets/controls",
          "model_name": "FloatProgressModel",
          "model_module_version": "1.5.0",
          "state": {
            "_view_name": "ProgressView",
            "style": "IPY_MODEL_1e9042119ffe4686b9aeb37903d93869",
            "_dom_classes": [],
            "description": "",
            "_model_name": "FloatProgressModel",
            "bar_style": "success",
            "max": 2825034,
            "_view_module": "@jupyter-widgets/controls",
            "_model_module_version": "1.5.0",
            "value": 2825034,
            "_view_count": null,
            "_view_module_version": "1.5.0",
            "orientation": "horizontal",
            "min": 0,
            "description_tooltip": null,
            "_model_module": "@jupyter-widgets/controls",
            "layout": "IPY_MODEL_3231f45e6a7a400bb9a505f2ad94c584"
          }
        },
        "c3d1aef6d3564707af4c7f8ae7806e7f": {
          "model_module": "@jupyter-widgets/controls",
          "model_name": "HTMLModel",
          "model_module_version": "1.5.0",
          "state": {
            "_view_name": "HTMLView",
            "style": "IPY_MODEL_48eab8d157ee41f790e41078e2955d53",
            "_dom_classes": [],
            "description": "",
            "_model_name": "HTMLModel",
            "placeholder": "​",
            "_view_module": "@jupyter-widgets/controls",
            "_model_module_version": "1.5.0",
            "value": " 2.69M/2.69M [00:00&lt;00:00, 1.43MB/s]",
            "_view_count": null,
            "_view_module_version": "1.5.0",
            "description_tooltip": null,
            "_model_module": "@jupyter-widgets/controls",
            "layout": "IPY_MODEL_7533deb221ce4d4d8508c7cc7ad7b196"
          }
        },
        "d30a25dd8e704e849e7f03e5f1e2499c": {
          "model_module": "@jupyter-widgets/controls",
          "model_name": "DescriptionStyleModel",
          "model_module_version": "1.5.0",
          "state": {
            "_view_name": "StyleView",
            "_model_name": "DescriptionStyleModel",
            "description_width": "",
            "_view_module": "@jupyter-widgets/base",
            "_model_module_version": "1.5.0",
            "_view_count": null,
            "_view_module_version": "1.2.0",
            "_model_module": "@jupyter-widgets/controls"
          }
        },
        "542c52a7ff594e1ca78103bca2d7c3e5": {
          "model_module": "@jupyter-widgets/base",
          "model_name": "LayoutModel",
          "model_module_version": "1.2.0",
          "state": {
            "_view_name": "LayoutView",
            "grid_template_rows": null,
            "right": null,
            "justify_content": null,
            "_view_module": "@jupyter-widgets/base",
            "overflow": null,
            "_model_module_version": "1.2.0",
            "_view_count": null,
            "flex_flow": null,
            "width": null,
            "min_width": null,
            "border": null,
            "align_items": null,
            "bottom": null,
            "_model_module": "@jupyter-widgets/base",
            "top": null,
            "grid_column": null,
            "overflow_y": null,
            "overflow_x": null,
            "grid_auto_flow": null,
            "grid_area": null,
            "grid_template_columns": null,
            "flex": null,
            "_model_name": "LayoutModel",
            "justify_items": null,
            "grid_row": null,
            "max_height": null,
            "align_content": null,
            "visibility": null,
            "align_self": null,
            "height": null,
            "min_height": null,
            "padding": null,
            "grid_auto_rows": null,
            "grid_gap": null,
            "max_width": null,
            "order": null,
            "_view_module_version": "1.2.0",
            "grid_template_areas": null,
            "object_position": null,
            "object_fit": null,
            "grid_auto_columns": null,
            "margin": null,
            "display": null,
            "left": null
          }
        },
        "1e9042119ffe4686b9aeb37903d93869": {
          "model_module": "@jupyter-widgets/controls",
          "model_name": "ProgressStyleModel",
          "model_module_version": "1.5.0",
          "state": {
            "_view_name": "StyleView",
            "_model_name": "ProgressStyleModel",
            "description_width": "",
            "_view_module": "@jupyter-widgets/base",
            "_model_module_version": "1.5.0",
            "_view_count": null,
            "_view_module_version": "1.2.0",
            "bar_color": null,
            "_model_module": "@jupyter-widgets/controls"
          }
        },
        "3231f45e6a7a400bb9a505f2ad94c584": {
          "model_module": "@jupyter-widgets/base",
          "model_name": "LayoutModel",
          "model_module_version": "1.2.0",
          "state": {
            "_view_name": "LayoutView",
            "grid_template_rows": null,
            "right": null,
            "justify_content": null,
            "_view_module": "@jupyter-widgets/base",
            "overflow": null,
            "_model_module_version": "1.2.0",
            "_view_count": null,
            "flex_flow": null,
            "width": null,
            "min_width": null,
            "border": null,
            "align_items": null,
            "bottom": null,
            "_model_module": "@jupyter-widgets/base",
            "top": null,
            "grid_column": null,
            "overflow_y": null,
            "overflow_x": null,
            "grid_auto_flow": null,
            "grid_area": null,
            "grid_template_columns": null,
            "flex": null,
            "_model_name": "LayoutModel",
            "justify_items": null,
            "grid_row": null,
            "max_height": null,
            "align_content": null,
            "visibility": null,
            "align_self": null,
            "height": null,
            "min_height": null,
            "padding": null,
            "grid_auto_rows": null,
            "grid_gap": null,
            "max_width": null,
            "order": null,
            "_view_module_version": "1.2.0",
            "grid_template_areas": null,
            "object_position": null,
            "object_fit": null,
            "grid_auto_columns": null,
            "margin": null,
            "display": null,
            "left": null
          }
        },
        "48eab8d157ee41f790e41078e2955d53": {
          "model_module": "@jupyter-widgets/controls",
          "model_name": "DescriptionStyleModel",
          "model_module_version": "1.5.0",
          "state": {
            "_view_name": "StyleView",
            "_model_name": "DescriptionStyleModel",
            "description_width": "",
            "_view_module": "@jupyter-widgets/base",
            "_model_module_version": "1.5.0",
            "_view_count": null,
            "_view_module_version": "1.2.0",
            "_model_module": "@jupyter-widgets/controls"
          }
        },
        "7533deb221ce4d4d8508c7cc7ad7b196": {
          "model_module": "@jupyter-widgets/base",
          "model_name": "LayoutModel",
          "model_module_version": "1.2.0",
          "state": {
            "_view_name": "LayoutView",
            "grid_template_rows": null,
            "right": null,
            "justify_content": null,
            "_view_module": "@jupyter-widgets/base",
            "overflow": null,
            "_model_module_version": "1.2.0",
            "_view_count": null,
            "flex_flow": null,
            "width": null,
            "min_width": null,
            "border": null,
            "align_items": null,
            "bottom": null,
            "_model_module": "@jupyter-widgets/base",
            "top": null,
            "grid_column": null,
            "overflow_y": null,
            "overflow_x": null,
            "grid_auto_flow": null,
            "grid_area": null,
            "grid_template_columns": null,
            "flex": null,
            "_model_name": "LayoutModel",
            "justify_items": null,
            "grid_row": null,
            "max_height": null,
            "align_content": null,
            "visibility": null,
            "align_self": null,
            "height": null,
            "min_height": null,
            "padding": null,
            "grid_auto_rows": null,
            "grid_gap": null,
            "max_width": null,
            "order": null,
            "_view_module_version": "1.2.0",
            "grid_template_areas": null,
            "object_position": null,
            "object_fit": null,
            "grid_auto_columns": null,
            "margin": null,
            "display": null,
            "left": null
          }
        }
      }
    }
  },
  "cells": [
    {
      "cell_type": "code",
      "metadata": {
        "id": "KrnXlE-WVIFK"
      },
      "source": [
        "from IPython.display import clear_output\n",
        "\n",
        "import torch\n",
        "import torch.nn as nn\n",
        "import torch.nn.functional as F\n",
        "\n",
        "import numpy as np\n",
        "import pandas as pd\n",
        "import matplotlib.pyplot as plt\n",
        "%matplotlib inline\n",
        "\n",
        "import json\n",
        "import re\n",
        "pd.set_option(\"display.max_rows\", None, \"display.max_columns\", None)"
      ],
      "execution_count": null,
      "outputs": []
    },
    {
      "cell_type": "code",
      "metadata": {
        "id": "oZ8LxHJORpGi"
      },
      "source": [
        "!pip install transformers\n",
        "clear_output()"
      ],
      "execution_count": null,
      "outputs": []
    },
    {
      "cell_type": "code",
      "metadata": {
        "id": "KSLL1gMbnUf9"
      },
      "source": [
        "!pip install kss hanja\n",
        "clear_output()"
      ],
      "execution_count": null,
      "outputs": []
    },
    {
      "cell_type": "code",
      "metadata": {
        "id": "2UohjM3GACZK"
      },
      "source": [
        "import kss\n",
        "import hanja"
      ],
      "execution_count": null,
      "outputs": []
    },
    {
      "cell_type": "code",
      "metadata": {
        "id": "aFLHu8EGVKN8",
        "colab": {
          "base_uri": "https://localhost:8080/"
        },
        "outputId": "98c6d9b3-efdb-4500-f6ad-569a6900c0ae"
      },
      "source": [
        "from google.colab import drive\n",
        "drive.mount('/content/drive')"
      ],
      "execution_count": null,
      "outputs": [
        {
          "output_type": "stream",
          "name": "stdout",
          "text": [
            "Mounted at /content/drive\n"
          ]
        }
      ]
    },
    {
      "cell_type": "code",
      "metadata": {
        "id": "mfwN4V1dx9LN"
      },
      "source": [
        ""
      ],
      "execution_count": null,
      "outputs": []
    },
    {
      "cell_type": "markdown",
      "metadata": {
        "id": "82pCfX1NuunI"
      },
      "source": [
        "## Text preprocessing\n",
        "- "
      ]
    },
    {
      "cell_type": "markdown",
      "metadata": {
        "id": "7F96wVDVMVTT"
      },
      "source": [
        "### 데이터 로드"
      ]
    },
    {
      "cell_type": "code",
      "metadata": {
        "id": "pHiGbHMmuuij"
      },
      "source": [
        "# csv에서 list of strings로 변환\n",
        "# df = pd.read_csv('/content/drive/MyDrive/test/inter/interview.csv')\n",
        "# lines = pd.Series(df['text'])"
      ],
      "execution_count": null,
      "outputs": []
    },
    {
      "cell_type": "code",
      "metadata": {
        "id": "c9HhSV6sQcOz"
      },
      "source": [
        "# txt에서 list of strings로 변환\n",
        "with open('/content/drive/MyDrive/jaso_data/interview6.txt') as f:\n",
        "    lines = f.readlines()\n",
        "lines = pd.Series(lines)"
      ],
      "execution_count": null,
      "outputs": []
    },
    {
      "cell_type": "code",
      "metadata": {
        "id": "VaxfWLlWs_97"
      },
      "source": [
        "# pickle로 저장된 list 불러오기\n",
        "# import pickle\n",
        "# with open(\"/content/drive/MyDrive/jaso_data/198000_200000.txt\", \"rb\") as fp:\n",
        "#     lines = pickle.load(fp)\n",
        "# lines = [item for sublist in lines for item in sublist]\n",
        "# lines = pd.Series(lines)"
      ],
      "execution_count": null,
      "outputs": []
    },
    {
      "cell_type": "markdown",
      "metadata": {
        "id": "b8IbixViMW5l"
      },
      "source": [
        "### 전처리"
      ]
    },
    {
      "cell_type": "code",
      "metadata": {
        "id": "H1VuNiwd3n5k"
      },
      "source": [
        "# 줄바꿈, 리턴 지우기\n",
        "lines = lines.apply(lambda x: x.replace('\\r', '').replace('\\n', ''))\n",
        "lines = lines[lines!=''].reset_index(drop=True)\n",
        "\n",
        "# <, > 특수문자 지우기\n",
        "lines = lines.apply(lambda x: re.sub('[<>]', '', x))\n",
        "\n",
        "# 3번 이상 반복되는 특수문자/문자/숫자는 마스킹 처리하기\n",
        "lines = lines.apply(lambda x: re.sub('(([a-zA-Z0-9*○])\\\\2{2,})', '<unused0>', x))\n",
        "\n",
        "# 괄호 안 내용 및 괄호 지우기\n",
        "lines = lines.apply(lambda x: re.sub(r'\\([^)]*\\)', '', x))\n",
        "\n",
        "# 기타 특수문자 지우기\n",
        "lines = lines.apply(lambda x: re.sub('[\\'\\\"!‘’@#$`%^&*\\{\\}\\|\\;?]', '', x))\n",
        "\n",
        "# 한자 => 한글로 바꾸기\n",
        "lines = lines.apply(lambda x: hanja.translate(x, 'substitution'))\n",
        "# 혹시 모르니 남은 한자 모두 지우기\n",
        "lines = lines.apply(lambda x: re.sub('[一-龥]', '', x))\n",
        "\n",
        "# 공백 2개/3개 된거 하나로\n",
        "lines = lines.apply(lambda x: x.replace('  ', ' '))\n",
        "lines = lines.apply(lambda x: x.replace('   ', ' '))\n",
        "\n",
        "# 동그라미 문자 2개로 마스킹된 거 '○○'로 통일\n",
        "lines = lines.apply(lambda x: x.replace('oo', '○○'))\n",
        "lines = lines.apply(lambda x: x.replace('OO', '○○'))\n",
        "lines = lines.apply(lambda x: x.replace('ㅇㅇ', '○○'))\n",
        "lines = lines.apply(lambda x: x.replace('○○', '○○'))\n",
        "\n",
        "##### 1안 문장으로 분리 kss\n",
        "lines = kss.split_sentences(lines, max_recover_length=50000, max_recover_step=20)\n",
        "\n",
        "# Series to list\n",
        "lines = lines.to_list()\n",
        "\n",
        "# into one list\n",
        "lines = [item for sublist in lines for item in sublist]"
      ],
      "execution_count": null,
      "outputs": []
    },
    {
      "cell_type": "code",
      "metadata": {
        "id": "oHlBuoXhu11l"
      },
      "source": [
        "##### 2안 split with '.'\n",
        "new_lines = []\n",
        "for line in lines:\n",
        "    new_lines += line.split('. ')\n",
        "\n",
        "lines = pd.Series(new_lines)\n",
        "\n",
        "# 문장 양쪽 공백 제거\n",
        "lines = lines.apply(lambda x: x.strip())\n",
        "\n",
        "lines = lines.apply(lambda x: np.nan if x == '' else x)\n",
        "lines = lines.dropna()\n",
        "\n",
        "# Series to list\n",
        "lines = lines.to_list()"
      ],
      "execution_count": null,
      "outputs": []
    },
    {
      "cell_type": "code",
      "metadata": {
        "colab": {
          "base_uri": "https://localhost:8080/"
        },
        "id": "edZDbgl8-U1r",
        "outputId": "9fd24dc3-2f36-4471-9a17-9fdfa3bcc52d"
      },
      "source": [
        "len(lines)"
      ],
      "execution_count": null,
      "outputs": [
        {
          "output_type": "execute_result",
          "data": {
            "text/plain": [
              "20978"
            ]
          },
          "metadata": {},
          "execution_count": 437
        }
      ]
    },
    {
      "cell_type": "code",
      "metadata": {
        "id": "9h0rPXox1Qs-"
      },
      "source": [
        "###### 추가전처리\n",
        "temp = temp.apply(lambda x: re.sub('좋은점 \\d', '', x))\n",
        "temp = temp.apply(lambda x: re.sub('아쉬운점 \\d', '', x))"
      ],
      "execution_count": null,
      "outputs": []
    },
    {
      "cell_type": "code",
      "metadata": {
        "id": "kAG0SaWE11QM"
      },
      "source": [
        "lines = temp"
      ],
      "execution_count": null,
      "outputs": []
    },
    {
      "cell_type": "code",
      "metadata": {
        "id": "1bKLDLdv1QqU"
      },
      "source": [
        "# 한자 => 한글로 바꾸기\n",
        "lines = lines.apply(lambda x: hanja.translate(x, 'substitution'))\n",
        "# 혹시모르니 남은 한자 모두 지우기\n",
        "lines = lines.apply(lambda x: re.sub('[一-龥]', '', x))\n",
        "\n",
        "# 공백 2개/3개 된거 하나로\n",
        "lines = lines.apply(lambda x: x.replace('  ', ' '))\n",
        "lines = lines.apply(lambda x: x.replace('   ', ' '))"
      ],
      "execution_count": null,
      "outputs": []
    },
    {
      "cell_type": "code",
      "metadata": {
        "id": "RDYGJmy-128M"
      },
      "source": [
        "# 줄바꿈, 리턴 지우기\n",
        "lines = lines.apply(lambda x: x.replace('\\r', '').replace('\\n', ''))\n",
        "lines = lines[lines!=''].reset_index(drop=True)"
      ],
      "execution_count": null,
      "outputs": []
    },
    {
      "cell_type": "code",
      "metadata": {
        "id": "3Re4IDnV2AR1"
      },
      "source": [
        "# 특수문자 지우기\n",
        "lines = lines.apply(lambda x: re.sub('[\\'\\\"\\˝\\˝\\-\\=\\→\\■\\!‘’@#$`%^&*\\{\\}\\|\\;?]', '', x))"
      ],
      "execution_count": null,
      "outputs": []
    },
    {
      "cell_type": "code",
      "metadata": {
        "id": "2a65csTd2cue"
      },
      "source": [
        "# unused to masking\n",
        "lines = lines.apply(lambda x: x.replace('<unused0>', '○○○'))"
      ],
      "execution_count": null,
      "outputs": []
    },
    {
      "cell_type": "code",
      "metadata": {
        "id": "EWifM6Wt2ZDl"
      },
      "source": [
        "# 몇몇 기업 이름들\n",
        "lines = lines.apply(lambda x: x.replace('CJ제일제당', '○○○'))\n",
        "lines = lines.apply(lambda x: x.replace('삼성전자', '○○○'))\n",
        "lines = lines.apply(lambda x: x.replace('삼성물산', '○○○'))\n",
        "lines = lines.apply(lambda x: x.replace('포스코', '○○○'))\n",
        "lines = lines.apply(lambda x: x.replace('현대자동차', '○○○'))\n",
        "lines = lines.apply(lambda x: x.replace('신한은행', '○○○'))"
      ],
      "execution_count": null,
      "outputs": []
    },
    {
      "cell_type": "code",
      "metadata": {
        "id": "w5Ss7zTU3k2v"
      },
      "source": [
        "# 공백 2개/3개 된거 하나로\n",
        "lines = lines.apply(lambda x: x.replace('  ', ' '))\n",
        "lines = lines.apply(lambda x: x.replace('   ', ' '))"
      ],
      "execution_count": null,
      "outputs": []
    },
    {
      "cell_type": "code",
      "metadata": {
        "id": "rBanGJRu4HaK"
      },
      "source": [
        "lines = lines.apply(lambda x: x.strip())"
      ],
      "execution_count": null,
      "outputs": []
    },
    {
      "cell_type": "code",
      "metadata": {
        "id": "Tz_RdOJA4gYP"
      },
      "source": [
        ""
      ],
      "execution_count": null,
      "outputs": []
    },
    {
      "cell_type": "markdown",
      "metadata": {
        "id": "Evn-mGuuoA23"
      },
      "source": [
        "### 텍스트파일\n",
        "> **여기 아래 있는 텍스트 파일들은 모두 kss split 해놓고 '더블리스트' 되어 있던 걸 하나의 리스트로 합친 파일이다**"
      ]
    },
    {
      "cell_type": "code",
      "metadata": {
        "id": "vF_EyatiWjBO"
      },
      "source": [
        "#### 일단 리스트대로 한번 저장! ####\n",
        "import pickle\n",
        "with open('/content/drive/MyDrive/final_list_pickle222.txt', 'wb') as fp:\n",
        "    pickle.dump(lines, fp)\n",
        "#### #### #### #### #### ####"
      ],
      "execution_count": null,
      "outputs": []
    },
    {
      "cell_type": "code",
      "metadata": {
        "id": "7Q81h8ZfJHSl"
      },
      "source": [
        "import pickle\n",
        "with open(\"/content/drive/MyDrive/gpt_training/final_list_pickle222.txt\", \"rb\") as fp:\n",
        "    temptemp = pickle.load(fp)"
      ],
      "execution_count": null,
      "outputs": []
    },
    {
      "cell_type": "code",
      "metadata": {
        "id": "VvneYUEc_kik"
      },
      "source": [
        "temptext = ' '.join(str(e) for e in temptemp)"
      ],
      "execution_count": null,
      "outputs": []
    },
    {
      "cell_type": "code",
      "metadata": {
        "id": "NwxHLCRs_kPp"
      },
      "source": [
        "# 텍스트 파일로 저장\n",
        "f = open('/content/drive/MyDrive/interview_final222.txt', 'w')\n",
        "f.write(temptext)\n",
        "f.close()"
      ],
      "execution_count": null,
      "outputs": []
    },
    {
      "cell_type": "code",
      "metadata": {
        "colab": {
          "base_uri": "https://localhost:8080/"
        },
        "id": "HmOeT5xGb9Dt",
        "outputId": "9e918e70-27ff-4d23-d3f5-6b58bf2addb8"
      },
      "source": [
        "len(temptext)"
      ],
      "execution_count": null,
      "outputs": [
        {
          "output_type": "execute_result",
          "data": {
            "text/plain": [
              "8859475"
            ]
          },
          "metadata": {},
          "execution_count": 9
        }
      ]
    },
    {
      "cell_type": "code",
      "metadata": {
        "id": "cIoeW6lx1BWr",
        "colab": {
          "base_uri": "https://localhost:8080/"
        },
        "outputId": "cdcefd85-beef-4cca-f5bc-aa446fd1dca1"
      },
      "source": [
        "temptemp[:100]"
      ],
      "execution_count": null,
      "outputs": [
        {
          "output_type": "execute_result",
          "data": {
            "text/plain": [
              "0     학창 시절부터 줄곧 리더 역할을 많이 했습니다 하지만 역설적이게도 저의 이미지는 조...\n",
              "1                      조용한 리더 이 말은 저를 가장 잘 나타내고 있는 말입니다\n",
              "2                                     강인한 리더는 부러지기 쉽습니다\n",
              "3                                반대로 부드러운 리더는 휘둘리기 쉽습니다\n",
              "4     이 둘의 장점을 섞어 강인한 마음을 부드럽게 표현할 수 있다면 최고의 리더가 될 수...\n",
              "                            ...                        \n",
              "95    그래서 왕복 4시간 거리의 학교를 기숙사 생활이 아닌 통학을 하며 다녔고 아르바이트...\n",
              "96             그러다 보니 체력적으로 힘에 부쳤고 이는 정신적인 스트레스로 이어졌습니다\n",
              "97                        그러던 도중 어머니가 투병 생활을 시작하게 되셨습니다\n",
              "98      갑작스러운 병으로 인해 병원을 오가며 처음으로 어머니의 부재 속에 생활하게 되었습니다\n",
              "99    다행히 건강을 되찾으셨지만 저는 심적으로 매우 지쳤고 이때 슬럼프에 빠지지 않도록 ...\n",
              "Length: 100, dtype: object"
            ]
          },
          "metadata": {},
          "execution_count": 8
        }
      ]
    },
    {
      "cell_type": "markdown",
      "metadata": {
        "id": "u53j7fTPl_8K"
      },
      "source": [
        "## Train test split"
      ]
    },
    {
      "cell_type": "code",
      "metadata": {
        "id": "HnqXTC9OYAC4"
      },
      "source": [
        "# train test split\n",
        "train = temptemp[:-int(len(temptemp)*0.1)]\n",
        "test = temptemp[-int(len(temptemp)*0.1):]\n",
        "\n",
        "# # transform to one list\n",
        "# train = [item for sublist in train for item in sublist]\n",
        "# test = [item for sublist in test for item in sublist]\n",
        "\n",
        "# to string\n",
        "train_ = ' '.join(str(e) for e in train)\n",
        "test_ = ' '.join(str(e) for e in test)"
      ],
      "execution_count": null,
      "outputs": []
    },
    {
      "cell_type": "code",
      "metadata": {
        "id": "pjCy4o_ivVSo"
      },
      "source": [
        "# 텍스트 파일로 저장\n",
        "f = open('/content/drive/MyDrive/interview_final_train222.txt', 'w')\n",
        "f.write(train_)\n",
        "f.close()\n",
        "\n",
        "f = open('/content/drive/MyDrive/interview_final_test222.txt', 'w')\n",
        "f.write(test_)\n",
        "f.close()"
      ],
      "execution_count": null,
      "outputs": []
    },
    {
      "cell_type": "code",
      "metadata": {
        "id": "__9iuqpVLSIJ"
      },
      "source": [
        ""
      ],
      "execution_count": null,
      "outputs": []
    },
    {
      "cell_type": "markdown",
      "metadata": {
        "id": "LVG_Dtd0LQhI"
      },
      "source": [
        "# ** 여기부터 학습루프 **\n"
      ]
    },
    {
      "cell_type": "markdown",
      "metadata": {
        "id": "ByISkzUrLPAF"
      },
      "source": [
        "## 경로 설정"
      ]
    },
    {
      "cell_type": "code",
      "metadata": {
        "id": "DobgcFiHIWUL"
      },
      "source": [
        "# 경로 설정\n",
        "train_path = '/content/drive/MyDrive/interview_final_train.txt'\n",
        "test_path = '/content/drive/MyDrive/interview_final_test.txt'"
      ],
      "execution_count": null,
      "outputs": []
    },
    {
      "cell_type": "markdown",
      "metadata": {
        "id": "lJPtzGchuvBL"
      },
      "source": [
        "## Load model / tokenizer"
      ]
    },
    {
      "cell_type": "code",
      "metadata": {
        "id": "FC3KOddxVKI-"
      },
      "source": [
        "from transformers import GPT2LMHeadModel\n",
        "model = GPT2LMHeadModel.from_pretrained('skt/kogpt2-base-v2')\n",
        "# model.to('cuda')"
      ],
      "execution_count": null,
      "outputs": []
    },
    {
      "cell_type": "code",
      "metadata": {
        "id": "o3A66RS9VKGp",
        "colab": {
          "base_uri": "https://localhost:8080/",
          "height": 100,
          "referenced_widgets": [
            "fa0c7e593a84481a9380002bbb65fff3",
            "a9fe2964cccc48c0bf2b034b6fb24767",
            "520b2b1d390f45a6ab5a46dce8d6c3c1",
            "fea59e999c784a37bc6426d5b4040344",
            "c3d1aef6d3564707af4c7f8ae7806e7f",
            "d30a25dd8e704e849e7f03e5f1e2499c",
            "542c52a7ff594e1ca78103bca2d7c3e5",
            "1e9042119ffe4686b9aeb37903d93869",
            "3231f45e6a7a400bb9a505f2ad94c584",
            "48eab8d157ee41f790e41078e2955d53",
            "7533deb221ce4d4d8508c7cc7ad7b196"
          ]
        },
        "outputId": "44535dfb-6fdb-4c5d-c753-4fbc1cdebdae"
      },
      "source": [
        "from transformers import PreTrainedTokenizerFast\n",
        "tokenizer = PreTrainedTokenizerFast.from_pretrained(\n",
        "    \"skt/kogpt2-base-v2\",\n",
        "    bos_token='<s>', eos_token='</s>', unk_token='<unk>',\n",
        "    pad_token='<pad>', mask_token='<mask>', additional_special_tokens=['<unused0>']) # <unused0> for proper nouns"
      ],
      "execution_count": null,
      "outputs": [
        {
          "output_type": "display_data",
          "data": {
            "application/vnd.jupyter.widget-view+json": {
              "model_id": "fa0c7e593a84481a9380002bbb65fff3",
              "version_minor": 0,
              "version_major": 2
            },
            "text/plain": [
              "Downloading:   0%|          | 0.00/2.69M [00:00<?, ?B/s]"
            ]
          },
          "metadata": {}
        },
        {
          "output_type": "stream",
          "name": "stderr",
          "text": [
            "The tokenizer class you load from this checkpoint is not the same type as the class this function is called from. It may result in unexpected tokenization. \n",
            "The tokenizer class you load from this checkpoint is 'GPT2Tokenizer'. \n",
            "The class this function is called from is 'PreTrainedTokenizerFast'.\n"
          ]
        }
      ]
    },
    {
      "cell_type": "markdown",
      "metadata": {
        "id": "m5Kwqh4eyDtt"
      },
      "source": [
        "## Dataset"
      ]
    },
    {
      "cell_type": "code",
      "metadata": {
        "colab": {
          "base_uri": "https://localhost:8080/"
        },
        "id": "kA3IxEf8VJ_b",
        "outputId": "7b80a5b1-dd80-4de4-ab8b-57f1901fd95c"
      },
      "source": [
        "from transformers import TextDataset, DataCollatorForLanguageModeling\n",
        "def load_dataset(train_path,test_path,tokenizer):\n",
        "    train_dataset = TextDataset(\n",
        "          tokenizer=tokenizer,\n",
        "          file_path=train_path,\n",
        "          block_size=256)\n",
        "     \n",
        "    test_dataset = TextDataset(\n",
        "          tokenizer=tokenizer,\n",
        "          file_path=test_path,\n",
        "          block_size=256)\n",
        "    \n",
        "    data_collator = DataCollatorForLanguageModeling(\n",
        "        tokenizer=tokenizer, mlm=False)\n",
        "    \n",
        "    return train_dataset, test_dataset, data_collator\n",
        "\n",
        "train_dataset, test_dataset, data_collator = load_dataset(train_path, test_path, tokenizer)"
      ],
      "execution_count": null,
      "outputs": [
        {
          "output_type": "stream",
          "name": "stderr",
          "text": [
            "/usr/local/lib/python3.7/dist-packages/transformers/data/datasets/language_modeling.py:58: FutureWarning: This dataset will be removed from the library soon, preprocessing should be handled with the 🤗 Datasets library. You can have a look at this example script for pointers: https://github.com/huggingface/transformers/blob/master/examples/pytorch/language-modeling/run_mlm.py\n",
            "  FutureWarning,\n",
            "[Korean Sentence Splitter]: Attempting to acquire lock 140018251111632 on /content/drive/MyDrive/cached_lm_PreTrainedTokenizerFast_256_interview_final_train.txt.lock\n",
            "[Korean Sentence Splitter]: Lock 140018251111632 acquired on /content/drive/MyDrive/cached_lm_PreTrainedTokenizerFast_256_interview_final_train.txt.lock\n",
            "Loading features from cached file /content/drive/MyDrive/cached_lm_PreTrainedTokenizerFast_256_interview_final_train.txt [took 0.788 s]\n",
            "[Korean Sentence Splitter]: Attempting to release lock 140018251111632 on /content/drive/MyDrive/cached_lm_PreTrainedTokenizerFast_256_interview_final_train.txt.lock\n",
            "[Korean Sentence Splitter]: Lock 140018251111632 released on /content/drive/MyDrive/cached_lm_PreTrainedTokenizerFast_256_interview_final_train.txt.lock\n",
            "[Korean Sentence Splitter]: Attempting to acquire lock 140018326742480 on /content/drive/MyDrive/cached_lm_PreTrainedTokenizerFast_256_interview_final_test.txt.lock\n",
            "[Korean Sentence Splitter]: Lock 140018326742480 acquired on /content/drive/MyDrive/cached_lm_PreTrainedTokenizerFast_256_interview_final_test.txt.lock\n",
            "Loading features from cached file /content/drive/MyDrive/cached_lm_PreTrainedTokenizerFast_256_interview_final_test.txt [took 0.681 s]\n",
            "[Korean Sentence Splitter]: Attempting to release lock 140018326742480 on /content/drive/MyDrive/cached_lm_PreTrainedTokenizerFast_256_interview_final_test.txt.lock\n",
            "[Korean Sentence Splitter]: Lock 140018326742480 released on /content/drive/MyDrive/cached_lm_PreTrainedTokenizerFast_256_interview_final_test.txt.lock\n"
          ]
        }
      ]
    },
    {
      "cell_type": "code",
      "metadata": {
        "id": "eDHRfYTy9Gp1"
      },
      "source": [
        ""
      ],
      "execution_count": null,
      "outputs": []
    },
    {
      "cell_type": "markdown",
      "metadata": {
        "id": "s_aa9cilVJ4k"
      },
      "source": [
        "## Trainer"
      ]
    },
    {
      "cell_type": "code",
      "metadata": {
        "id": "ibhMyYDmVJ2d",
        "colab": {
          "base_uri": "https://localhost:8080/"
        },
        "outputId": "c8df35cf-45f9-4761-b112-56add4c4153e"
      },
      "source": [
        "from transformers import Trainer, TrainingArguments\n",
        "\n",
        "training_args = TrainingArguments(\n",
        "    output_dir=\"/content/drive/MyDrive/kogpt_checkpoints\", #The output directory\n",
        "    overwrite_output_dir=True, #overwrite the content of the output directory\n",
        "    num_train_epochs=15, # number of training epochs\n",
        "    per_device_train_batch_size=8, # batch size for training\n",
        "    per_device_eval_batch_size=24,  # batch size for evaluation\n",
        "    eval_steps=400, # Number of update steps between two evaluations.\n",
        "    save_steps=2000, # after # steps model is saved \n",
        "    warmup_steps=1000,# number of warmup steps for learning rate scheduler\n",
        "    learning_rate=3e-5,\n",
        "    prediction_loss_only=True,\n",
        "    weight_decay=0.01,\n",
        ")\n",
        "\n",
        "trainer = Trainer(\n",
        "    model=model,\n",
        "    args=training_args,\n",
        "    data_collator=data_collator,\n",
        "    train_dataset=train_dataset,\n",
        "    eval_dataset=test_dataset,\n",
        ")"
      ],
      "execution_count": null,
      "outputs": [
        {
          "output_type": "stream",
          "name": "stderr",
          "text": [
            "PyTorch: setting up devices\n",
            "The default value for the training argument `--report_to` will change in v5 (from all installed integrations to none). In v5, you will need to use `--report_to all` to get the same behavior as now. You should start updating your code and make this info disappear :-).\n"
          ]
        }
      ]
    },
    {
      "cell_type": "code",
      "metadata": {
        "colab": {
          "base_uri": "https://localhost:8080/",
          "height": 1000
        },
        "id": "tCRbp81KVJ0L",
        "outputId": "ad6dcff9-acf7-448e-a0fb-fec454518674"
      },
      "source": [
        "trainer.train()\n",
        "trainer.save_model()"
      ],
      "execution_count": null,
      "outputs": [
        {
          "output_type": "stream",
          "name": "stderr",
          "text": [
            "***** Running training *****\n",
            "  Num examples = 12521\n",
            "  Num Epochs = 15\n",
            "  Instantaneous batch size per device = 8\n",
            "  Total train batch size (w. parallel, distributed & accumulation) = 8\n",
            "  Gradient Accumulation steps = 1\n",
            "  Total optimization steps = 23490\n"
          ]
        },
        {
          "output_type": "display_data",
          "data": {
            "text/html": [
              "\n",
              "    <div>\n",
              "      \n",
              "      <progress value='23490' max='23490' style='width:300px; height:20px; vertical-align: middle;'></progress>\n",
              "      [23490/23490 2:07:21, Epoch 15/15]\n",
              "    </div>\n",
              "    <table border=\"1\" class=\"dataframe\">\n",
              "  <thead>\n",
              "    <tr style=\"text-align: left;\">\n",
              "      <th>Step</th>\n",
              "      <th>Training Loss</th>\n",
              "    </tr>\n",
              "  </thead>\n",
              "  <tbody>\n",
              "    <tr>\n",
              "      <td>500</td>\n",
              "      <td>3.943500</td>\n",
              "    </tr>\n",
              "    <tr>\n",
              "      <td>1000</td>\n",
              "      <td>3.765600</td>\n",
              "    </tr>\n",
              "    <tr>\n",
              "      <td>1500</td>\n",
              "      <td>3.675200</td>\n",
              "    </tr>\n",
              "    <tr>\n",
              "      <td>2000</td>\n",
              "      <td>3.461500</td>\n",
              "    </tr>\n",
              "    <tr>\n",
              "      <td>2500</td>\n",
              "      <td>3.429400</td>\n",
              "    </tr>\n",
              "    <tr>\n",
              "      <td>3000</td>\n",
              "      <td>3.394300</td>\n",
              "    </tr>\n",
              "    <tr>\n",
              "      <td>3500</td>\n",
              "      <td>3.210100</td>\n",
              "    </tr>\n",
              "    <tr>\n",
              "      <td>4000</td>\n",
              "      <td>3.157600</td>\n",
              "    </tr>\n",
              "    <tr>\n",
              "      <td>4500</td>\n",
              "      <td>3.136300</td>\n",
              "    </tr>\n",
              "    <tr>\n",
              "      <td>5000</td>\n",
              "      <td>3.010100</td>\n",
              "    </tr>\n",
              "    <tr>\n",
              "      <td>5500</td>\n",
              "      <td>2.956000</td>\n",
              "    </tr>\n",
              "    <tr>\n",
              "      <td>6000</td>\n",
              "      <td>2.940100</td>\n",
              "    </tr>\n",
              "    <tr>\n",
              "      <td>6500</td>\n",
              "      <td>2.854900</td>\n",
              "    </tr>\n",
              "    <tr>\n",
              "      <td>7000</td>\n",
              "      <td>2.777400</td>\n",
              "    </tr>\n",
              "    <tr>\n",
              "      <td>7500</td>\n",
              "      <td>2.777100</td>\n",
              "    </tr>\n",
              "    <tr>\n",
              "      <td>8000</td>\n",
              "      <td>2.722500</td>\n",
              "    </tr>\n",
              "    <tr>\n",
              "      <td>8500</td>\n",
              "      <td>2.609700</td>\n",
              "    </tr>\n",
              "    <tr>\n",
              "      <td>9000</td>\n",
              "      <td>2.652100</td>\n",
              "    </tr>\n",
              "    <tr>\n",
              "      <td>9500</td>\n",
              "      <td>2.603900</td>\n",
              "    </tr>\n",
              "    <tr>\n",
              "      <td>10000</td>\n",
              "      <td>2.486700</td>\n",
              "    </tr>\n",
              "    <tr>\n",
              "      <td>10500</td>\n",
              "      <td>2.511500</td>\n",
              "    </tr>\n",
              "    <tr>\n",
              "      <td>11000</td>\n",
              "      <td>2.516800</td>\n",
              "    </tr>\n",
              "    <tr>\n",
              "      <td>11500</td>\n",
              "      <td>2.389100</td>\n",
              "    </tr>\n",
              "    <tr>\n",
              "      <td>12000</td>\n",
              "      <td>2.384300</td>\n",
              "    </tr>\n",
              "    <tr>\n",
              "      <td>12500</td>\n",
              "      <td>2.423600</td>\n",
              "    </tr>\n",
              "    <tr>\n",
              "      <td>13000</td>\n",
              "      <td>2.278200</td>\n",
              "    </tr>\n",
              "    <tr>\n",
              "      <td>13500</td>\n",
              "      <td>2.309500</td>\n",
              "    </tr>\n",
              "    <tr>\n",
              "      <td>14000</td>\n",
              "      <td>2.315900</td>\n",
              "    </tr>\n",
              "    <tr>\n",
              "      <td>14500</td>\n",
              "      <td>2.221000</td>\n",
              "    </tr>\n",
              "    <tr>\n",
              "      <td>15000</td>\n",
              "      <td>2.232800</td>\n",
              "    </tr>\n",
              "    <tr>\n",
              "      <td>15500</td>\n",
              "      <td>2.219200</td>\n",
              "    </tr>\n",
              "    <tr>\n",
              "      <td>16000</td>\n",
              "      <td>2.157600</td>\n",
              "    </tr>\n",
              "    <tr>\n",
              "      <td>16500</td>\n",
              "      <td>2.146100</td>\n",
              "    </tr>\n",
              "    <tr>\n",
              "      <td>17000</td>\n",
              "      <td>2.159300</td>\n",
              "    </tr>\n",
              "    <tr>\n",
              "      <td>17500</td>\n",
              "      <td>2.112600</td>\n",
              "    </tr>\n",
              "    <tr>\n",
              "      <td>18000</td>\n",
              "      <td>2.084200</td>\n",
              "    </tr>\n",
              "    <tr>\n",
              "      <td>18500</td>\n",
              "      <td>2.087300</td>\n",
              "    </tr>\n",
              "    <tr>\n",
              "      <td>19000</td>\n",
              "      <td>2.072000</td>\n",
              "    </tr>\n",
              "    <tr>\n",
              "      <td>19500</td>\n",
              "      <td>2.022800</td>\n",
              "    </tr>\n",
              "    <tr>\n",
              "      <td>20000</td>\n",
              "      <td>2.044800</td>\n",
              "    </tr>\n",
              "    <tr>\n",
              "      <td>20500</td>\n",
              "      <td>2.031900</td>\n",
              "    </tr>\n",
              "    <tr>\n",
              "      <td>21000</td>\n",
              "      <td>2.009000</td>\n",
              "    </tr>\n",
              "    <tr>\n",
              "      <td>21500</td>\n",
              "      <td>1.980200</td>\n",
              "    </tr>\n",
              "    <tr>\n",
              "      <td>22000</td>\n",
              "      <td>1.991000</td>\n",
              "    </tr>\n",
              "    <tr>\n",
              "      <td>22500</td>\n",
              "      <td>1.967700</td>\n",
              "    </tr>\n",
              "    <tr>\n",
              "      <td>23000</td>\n",
              "      <td>1.965700</td>\n",
              "    </tr>\n",
              "  </tbody>\n",
              "</table><p>"
            ],
            "text/plain": [
              "<IPython.core.display.HTML object>"
            ]
          },
          "metadata": {}
        },
        {
          "output_type": "stream",
          "name": "stderr",
          "text": [
            "Saving model checkpoint to /content/drive/MyDrive/kogpt_checkpoints/checkpoint-2000\n",
            "Configuration saved in /content/drive/MyDrive/kogpt_checkpoints/checkpoint-2000/config.json\n",
            "Model weights saved in /content/drive/MyDrive/kogpt_checkpoints/checkpoint-2000/pytorch_model.bin\n",
            "Saving model checkpoint to /content/drive/MyDrive/kogpt_checkpoints/checkpoint-4000\n",
            "Configuration saved in /content/drive/MyDrive/kogpt_checkpoints/checkpoint-4000/config.json\n",
            "Model weights saved in /content/drive/MyDrive/kogpt_checkpoints/checkpoint-4000/pytorch_model.bin\n",
            "Saving model checkpoint to /content/drive/MyDrive/kogpt_checkpoints/checkpoint-6000\n",
            "Configuration saved in /content/drive/MyDrive/kogpt_checkpoints/checkpoint-6000/config.json\n",
            "Model weights saved in /content/drive/MyDrive/kogpt_checkpoints/checkpoint-6000/pytorch_model.bin\n",
            "Saving model checkpoint to /content/drive/MyDrive/kogpt_checkpoints/checkpoint-8000\n",
            "Configuration saved in /content/drive/MyDrive/kogpt_checkpoints/checkpoint-8000/config.json\n",
            "Model weights saved in /content/drive/MyDrive/kogpt_checkpoints/checkpoint-8000/pytorch_model.bin\n",
            "Saving model checkpoint to /content/drive/MyDrive/kogpt_checkpoints/checkpoint-10000\n",
            "Configuration saved in /content/drive/MyDrive/kogpt_checkpoints/checkpoint-10000/config.json\n",
            "Model weights saved in /content/drive/MyDrive/kogpt_checkpoints/checkpoint-10000/pytorch_model.bin\n",
            "Saving model checkpoint to /content/drive/MyDrive/kogpt_checkpoints/checkpoint-12000\n",
            "Configuration saved in /content/drive/MyDrive/kogpt_checkpoints/checkpoint-12000/config.json\n",
            "Model weights saved in /content/drive/MyDrive/kogpt_checkpoints/checkpoint-12000/pytorch_model.bin\n",
            "Saving model checkpoint to /content/drive/MyDrive/kogpt_checkpoints/checkpoint-14000\n",
            "Configuration saved in /content/drive/MyDrive/kogpt_checkpoints/checkpoint-14000/config.json\n",
            "Model weights saved in /content/drive/MyDrive/kogpt_checkpoints/checkpoint-14000/pytorch_model.bin\n",
            "Saving model checkpoint to /content/drive/MyDrive/kogpt_checkpoints/checkpoint-16000\n",
            "Configuration saved in /content/drive/MyDrive/kogpt_checkpoints/checkpoint-16000/config.json\n",
            "Model weights saved in /content/drive/MyDrive/kogpt_checkpoints/checkpoint-16000/pytorch_model.bin\n",
            "Saving model checkpoint to /content/drive/MyDrive/kogpt_checkpoints/checkpoint-18000\n",
            "Configuration saved in /content/drive/MyDrive/kogpt_checkpoints/checkpoint-18000/config.json\n",
            "Model weights saved in /content/drive/MyDrive/kogpt_checkpoints/checkpoint-18000/pytorch_model.bin\n",
            "Saving model checkpoint to /content/drive/MyDrive/kogpt_checkpoints/checkpoint-20000\n",
            "Configuration saved in /content/drive/MyDrive/kogpt_checkpoints/checkpoint-20000/config.json\n",
            "Model weights saved in /content/drive/MyDrive/kogpt_checkpoints/checkpoint-20000/pytorch_model.bin\n",
            "Saving model checkpoint to /content/drive/MyDrive/kogpt_checkpoints/checkpoint-22000\n",
            "Configuration saved in /content/drive/MyDrive/kogpt_checkpoints/checkpoint-22000/config.json\n",
            "Model weights saved in /content/drive/MyDrive/kogpt_checkpoints/checkpoint-22000/pytorch_model.bin\n",
            "\n",
            "\n",
            "Training completed. Do not forget to share your model on huggingface.co/models =)\n",
            "\n",
            "\n"
          ]
        },
        {
          "output_type": "execute_result",
          "data": {
            "text/plain": [
              "TrainOutput(global_step=23490, training_loss=2.5569751179233515, metrics={'train_runtime': 7641.7583, 'train_samples_per_second': 24.577, 'train_steps_per_second': 3.074, 'total_flos': 2.453728149504e+16, 'train_loss': 2.5569751179233515, 'epoch': 15.0})"
            ]
          },
          "metadata": {},
          "execution_count": 24
        }
      ]
    },
    {
      "cell_type": "code",
      "metadata": {
        "id": "YSI2n_-0tdgu"
      },
      "source": [
        ""
      ],
      "execution_count": null,
      "outputs": []
    },
    {
      "cell_type": "markdown",
      "metadata": {
        "id": "xl9RoxLhye9a"
      },
      "source": [
        "## Save and Load"
      ]
    },
    {
      "cell_type": "code",
      "metadata": {
        "id": "uJU19q2dVJxw"
      },
      "source": [
        "# 아래 두 가지 코드로 저장된 파일들을 한 디렉토리에 합치면 된다.\n",
        "# model.save_pretrained(경로)\n",
        "# tokenizer.save_pretrained(경로)\n",
        "\n",
        "# 불러올 때는\n",
        "# model = GPT2LMHeadModel.from_pretrained(경로)\n",
        "# tokenizer = PreTrainedTokenizerFast.from_pretrained(경로)"
      ],
      "execution_count": null,
      "outputs": []
    },
    {
      "cell_type": "code",
      "metadata": {
        "id": "U_iXMHUxaBfL"
      },
      "source": [
        ""
      ],
      "execution_count": null,
      "outputs": []
    }
  ]
}