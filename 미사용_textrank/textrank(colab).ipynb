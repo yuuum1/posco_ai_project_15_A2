{
  "nbformat": 4,
  "nbformat_minor": 0,
  "metadata": {
    "colab": {
      "name": "textrank(colab).ipynb",
      "provenance": [],
      "collapsed_sections": []
    },
    "kernelspec": {
      "name": "python3",
      "display_name": "Python 3"
    },
    "language_info": {
      "name": "python"
    }
  },
  "cells": [
    {
      "cell_type": "markdown",
      "metadata": {
        "id": "TblSwR50Xjw4"
      },
      "source": [
        "# Keyword, Keysentence 추출"
      ]
    },
    {
      "cell_type": "code",
      "metadata": {
        "id": "iz351Ic5nhk7"
      },
      "source": [
        "from IPython.display import clear_output"
      ],
      "execution_count": null,
      "outputs": []
    },
    {
      "cell_type": "code",
      "metadata": {
        "id": "A9whaKjGX8UG"
      },
      "source": [
        "# 토크나이저 Mecab 설치\n",
        "!git clone https://github.com/SOMJANG/Mecab-ko-for-Google-Colab.git\n",
        "%cd Mecab-ko-for-Google-Colab\n",
        "!bash install_mecab-ko_on_colab190912.sh\n",
        "\n",
        "%cd /content\n",
        "clear_output()"
      ],
      "execution_count": null,
      "outputs": []
    },
    {
      "cell_type": "code",
      "metadata": {
        "id": "lmNQnLfviuGy"
      },
      "source": [
        "# textrank 설치\n",
        "!git clone --recursive https://github.com/lovit/textrank\n",
        "import sys\n",
        "sys.path.insert(0,'/content/textrank')\n",
        "clear_output()"
      ],
      "execution_count": null,
      "outputs": []
    },
    {
      "cell_type": "code",
      "metadata": {
        "id": "C5bNuG6xXYhE"
      },
      "source": [
        "from textrank import KeywordSummarizer\n",
        "from textrank import KeysentenceSummarizer\n",
        "from konlpy.tag import Mecab"
      ],
      "execution_count": null,
      "outputs": []
    },
    {
      "cell_type": "code",
      "metadata": {
        "id": "UhNk2dhiWxTL"
      },
      "source": [
        "rawtext = '근육이 커지기 위해서는 무엇보다 규칙적인 생활습관이 중요하다. \\\n",
        "특히, 아침식사는 단백질과 비타민이 풍부한 과일과 채소를 많이 섭취하는 것이 좋다. \\\n",
        "또한 하루 30분 이상 충분한 수면을 취하는 것도 도움이 된다. 아침 식사를 거르지 \\\n",
        "않고 규칙적으로 운동을 하면 혈액순환에 도움을 줄 뿐만 아니라 신진대사를 촉진해 \\\n",
        "체내 노폐물을 배출하고 혈압을 낮춰준다. 운동은 하루에 10분 정도만 하는 게 좋으며 \\\n",
        "운동 후에는 반드시 스트레칭을 통해 근육량을 늘리고 유연성을 높여야 한다. \\\n",
        "운동 후 바로 잠자리에 드는 것은 피해야 하며 특히 아침에 일어나면 몸이 \\\n",
        "피곤해지기 때문에 무리하게 움직이면 오히려 역효과가 날 수도 있다.'"
      ],
      "execution_count": null,
      "outputs": []
    },
    {
      "cell_type": "markdown",
      "metadata": {
        "id": "smILVPOtkYvN"
      },
      "source": [
        "## 명사 토크나이징"
      ]
    },
    {
      "cell_type": "code",
      "metadata": {
        "id": "BpoTHfpOhsDa"
      },
      "source": [
        "# pos 태깅 NN(명사) 단어 추출\n",
        "def pos_nn_words(sent):\n",
        "    mecab = Mecab()\n",
        "    words = mecab.pos(sent, join=True)\n",
        "    words = [w for w in words if ('/NN' in w and list(w)[1]!='/')]\n",
        "    \n",
        "    words = [w.split('/')[0] for w in words]\n",
        "    return words"
      ],
      "execution_count": null,
      "outputs": []
    },
    {
      "cell_type": "code",
      "metadata": {
        "colab": {
          "base_uri": "https://localhost:8080/"
        },
        "id": "KRYPlgnOiDUf",
        "outputId": "16beff5f-ab0a-40ee-b4b4-413d8acc3b6b"
      },
      "source": [
        "mecab = Mecab()\n",
        "print(mecab.nouns(rawtext))  # mecab 기본 제공 nouns 메서드\n",
        "print(pos_nn_words(rawtext)) # 위에서 정의한 pos_nn_words 함수 ==>> mecab.pos로 pos태깅하고, NN 태그만 추출\n",
        "\n",
        "# 결론.. pos_nn_words 사용해야됌. 왜냐면 mecab.nouns는 '무엇', '것', '뿐' 같은 명사도 추출함"
      ],
      "execution_count": null,
      "outputs": [
        {
          "output_type": "stream",
          "name": "stdout",
          "text": [
            "['근육', '무엇', '규칙', '생활', '습관', '중요', '아침', '식사', '단백질', '비타민', '과일', '채소', '섭취', '것', '하루', '분', '이상', '수면', '것', '도움', '아침', '식사', '규칙', '운동', '혈액', '순환', '도움', '뿐', '신진대사', '촉진', '체내', '노폐물', '배출', '혈압', '운동', '하루', '분', '정도', '게', '운동', '후', '스트레칭', '근육', '량', '운동', '후', '잠자리', '것', '아침', '몸', '피곤', '때문', '무리', '역효과', '수']\n",
            "['근육', '규칙', '생활', '습관', '중요', '아침', '식사', '단백질', '비타민', '과일', '채소', '섭취', '하루', '이상', '수면', '도움', '아침', '식사', '규칙', '운동', '혈액', '순환', '도움', '신진대사', '촉진', '체내', '노폐물', '배출', '혈압', '운동', '하루', '정도', '운동', '스트레칭', '근육', '운동', '잠자리', '아침', '피곤', '때문', '무리', '역효과']\n"
          ]
        }
      ]
    },
    {
      "cell_type": "code",
      "metadata": {
        "id": "aDwkoEuo9-Gr"
      },
      "source": [
        ""
      ],
      "execution_count": null,
      "outputs": []
    },
    {
      "cell_type": "markdown",
      "metadata": {
        "id": "j39rnaKT7ovH"
      },
      "source": [
        "## 빈도 기반으로 키워드 추출"
      ]
    },
    {
      "cell_type": "code",
      "metadata": {
        "id": "PSJJ3k5FZwxr"
      },
      "source": [
        "from collections import Counter\n",
        "\n",
        "def keywords_by_freq(text,n):\n",
        "    # keywords = list(filter(lambda x: len(x)>1, word_list_1)) ## 2글자 이상 단어만 고려\n",
        "    count = Counter(text)\n",
        "    \n",
        "    most_common = count.most_common(n)\n",
        "    keywords = []\n",
        "    keywords_cnt = []\n",
        "    for key, cnt in most_common:\n",
        "        keywords.append(key)\n",
        "        keywords_cnt.append(cnt)\n",
        "        \n",
        "    return keywords, keywords_cnt"
      ],
      "execution_count": null,
      "outputs": []
    },
    {
      "cell_type": "code",
      "metadata": {
        "id": "X0S5gPEmZ_bN"
      },
      "source": [
        "nn_words = pos_nn_words(rawtext)\n",
        "keyword_prob = keywords_by_freq(nn_words, 5)"
      ],
      "execution_count": null,
      "outputs": []
    },
    {
      "cell_type": "code",
      "metadata": {
        "colab": {
          "base_uri": "https://localhost:8080/"
        },
        "id": "IlpRNhFkbgWz",
        "outputId": "48aa8cc6-d7f1-4527-cef3-df695419ad76"
      },
      "source": [
        "print(\"------------------------\")\n",
        "print(\"  빈도로 추출한 키워드  \")\n",
        "print(\"------------------------\")\n",
        "for i in range(len(keyword_prob[0])):\n",
        "    print(f'{i+1}위: {keyword_prob[0][i]} ({keyword_prob[1][i]})')"
      ],
      "execution_count": null,
      "outputs": [
        {
          "output_type": "stream",
          "name": "stdout",
          "text": [
            "------------------------\n",
            "  빈도로 추출한 키워드  \n",
            "------------------------\n",
            "1위: 운동 (4)\n",
            "2위: 아침 (3)\n",
            "3위: 근육 (2)\n",
            "4위: 규칙 (2)\n",
            "5위: 식사 (2)\n"
          ]
        }
      ]
    },
    {
      "cell_type": "code",
      "metadata": {
        "id": "XlokuWP09-EK"
      },
      "source": [
        "### 빈도로 추출하는 키워드도 의미가 있긴 한데, 더 분석적인 방법?이 textrank 알고리즘을 기반으로 키워드 추출하는 거다.\n",
        "    \n",
        "    ### 어떤 면에서 더 좋은지 아직 잘 몰라서 찾아봐야됌.."
      ],
      "execution_count": null,
      "outputs": []
    },
    {
      "cell_type": "markdown",
      "metadata": {
        "id": "1dpva_39_LC0"
      },
      "source": [
        "## textrank 기반 키워드 추출"
      ]
    },
    {
      "cell_type": "code",
      "metadata": {
        "id": "M15lqVbB9-By"
      },
      "source": [
        "nn_words = pos_nn_words(rawtext)"
      ],
      "execution_count": null,
      "outputs": []
    },
    {
      "cell_type": "code",
      "metadata": {
        "id": "6irBEiWjWxHs"
      },
      "source": [
        "def summarizer_text(texts, n):\n",
        "    summarizer = KeysentenceSummarizer(\n",
        "        tokenize = pos_nn_words,\n",
        "        min_sim = 0.3,\n",
        "        verbose = False\n",
        "    )\n",
        "    sent = []\n",
        "    keysents = summarizer.summarize(texts, topk=n)\n",
        "\n",
        "    for _, _, a in keysents:\n",
        "        sent.append(a)\n",
        "    \n",
        "    final_sent = []\n",
        "    \n",
        "    for i in texts:\n",
        "        if i in sent:\n",
        "            final_sent.append(i)\n",
        "    \n",
        "    return final_sent"
      ],
      "execution_count": null,
      "outputs": []
    },
    {
      "cell_type": "code",
      "metadata": {
        "id": "iHsG2xFsAHpp"
      },
      "source": [
        "def keywords_by_textrank(text, n):\n",
        "    keyword_extractor = KeywordSummarizer(\n",
        "    tokenize = pos_nn_words,\n",
        "    window = -1,\n",
        "    verbose = False,\n",
        "    min_count=1) # FOR working with extremely short text.\n",
        "\n",
        "    textrank_keywords = keyword_extractor.summarize([text], n)\n",
        "\n",
        "    return textrank_keywords"
      ],
      "execution_count": null,
      "outputs": []
    },
    {
      "cell_type": "code",
      "metadata": {
        "colab": {
          "base_uri": "https://localhost:8080/"
        },
        "id": "u1iBL3yeCeHQ",
        "outputId": "de810577-7db6-4982-c3db-73fbd222aa7c"
      },
      "source": [
        "textrank_keywords = keywords_by_textrank(rawtext, 5)\n",
        "textrank_keywords"
      ],
      "execution_count": null,
      "outputs": [
        {
          "output_type": "execute_result",
          "data": {
            "text/plain": [
              "[('운동', 2.7467144563918784),\n",
              " ('아침', 2.096774193548387),\n",
              " ('근육', 1.4468339307049),\n",
              " ('규칙', 1.4468339307049),\n",
              " ('식사', 1.4468339307049)]"
            ]
          },
          "metadata": {},
          "execution_count": 136
        }
      ]
    },
    {
      "cell_type": "code",
      "metadata": {
        "colab": {
          "base_uri": "https://localhost:8080/"
        },
        "id": "zhHvUaD5p5XR",
        "outputId": "254fe3ff-57d2-4924-a007-9cffc7764847"
      },
      "source": [
        "exam =  '천재는 1의 영감과 99의 목표의식을 가지고서 모든 일에 열중하고 있으며 하루하루 자아향상에 노력해 왔습니다.'\n",
        "keywords_by_textrank(exam, 3)"
      ],
      "execution_count": null,
      "outputs": [
        {
          "output_type": "execute_result",
          "data": {
            "text/plain": [
              "[('노력', 0.9999999999999997),\n",
              " ('향상', 0.9999999999999997),\n",
              " ('자아', 0.9999999999999997)]"
            ]
          },
          "metadata": {},
          "execution_count": 110
        }
      ]
    },
    {
      "cell_type": "code",
      "metadata": {
        "colab": {
          "base_uri": "https://localhost:8080/"
        },
        "id": "pqF5jXNTrOWV",
        "outputId": "75b75d9c-097b-42da-9726-47a129b861e2"
      },
      "source": [
        "[x[0] for x in textrank_keywords], [x[1]]"
      ],
      "execution_count": null,
      "outputs": [
        {
          "output_type": "execute_result",
          "data": {
            "text/plain": [
              "['운동', '아침', '근육', '규칙', '식사']"
            ]
          },
          "metadata": {},
          "execution_count": 148
        }
      ]
    },
    {
      "cell_type": "code",
      "metadata": {
        "colab": {
          "base_uri": "https://localhost:8080/"
        },
        "id": "A1sbwB3VLqI_",
        "outputId": "2847f614-fb09-4423-cc64-fa60711ef3c9"
      },
      "source": [
        "print(\"------------------------\")\n",
        "print(\"  Textrank로 추출한 키워드  \")\n",
        "print(\"------------------------\")\n",
        "for i, keywords in enumerate(textrank_keywords):\n",
        "    print(f\"{i+1}위: {keywords[0]} ({round(keywords[1], 2)})\")"
      ],
      "execution_count": null,
      "outputs": [
        {
          "output_type": "stream",
          "name": "stdout",
          "text": [
            "------------------------\n",
            "  Textrank로 추출한 키워드  \n",
            "------------------------\n",
            "1위: 운동 (1.55)\n",
            "2위: 아침 (1.2)\n",
            "3위: 도움 (0.85)\n",
            "4위: 하루 (0.85)\n",
            "5위: 식사 (0.85)\n"
          ]
        }
      ]
    },
    {
      "cell_type": "code",
      "metadata": {
        "id": "4-60YB_9LqGl"
      },
      "source": [
        ""
      ],
      "execution_count": null,
      "outputs": []
    },
    {
      "cell_type": "markdown",
      "metadata": {
        "id": "8ebUEkO9OWq6"
      },
      "source": [
        "## textrank 키워드가 포함된 문장 추출"
      ]
    },
    {
      "cell_type": "code",
      "metadata": {
        "id": "8KDwg2YmCd99"
      },
      "source": [
        "# input text should be 'textrank_keywords' and 'string'\n",
        "\n",
        "def keyword_dict(keyword, text):\n",
        "    dic = {k[0]: [] for k in keyword}\n",
        "\n",
        "    for k in dic:\n",
        "        for txt in text.split('.'):\n",
        "            if k in txt:\n",
        "                dic[k].append(txt)\n",
        "\n",
        "    return dic"
      ],
      "execution_count": null,
      "outputs": []
    },
    {
      "cell_type": "code",
      "metadata": {
        "colab": {
          "base_uri": "https://localhost:8080/"
        },
        "id": "Yg66sctdCd2Q",
        "outputId": "56e264be-0740-4809-c58a-7013f17cbebe"
      },
      "source": [
        "keyword_with_sentences = keyword_dict(textrank_keywords, rawtext)\n",
        "keyword_with_sentences # 이렇게 반환된 dictionary는 textrank score 순서대로 나열된 게 아님"
      ],
      "execution_count": null,
      "outputs": [
        {
          "output_type": "execute_result",
          "data": {
            "text/plain": [
              "{'도움': [' 또한 하루 30분 이상 충분한 수면을 취하는 것도 도움이 된다',\n",
              "  ' 아침 식사를 거르지 않고 규칙적으로 운동을 하면 혈액순환에 도움을 줄 뿐만 아니라 신진대사를 촉진해 체내 노폐물을 배출하고 혈압을 낮춰준다'],\n",
              " '식사': [' 특히, 아침식사는 단백질과 비타민이 풍부한 과일과 채소를 많이 섭취하는 것이 좋다',\n",
              "  ' 아침 식사를 거르지 않고 규칙적으로 운동을 하면 혈액순환에 도움을 줄 뿐만 아니라 신진대사를 촉진해 체내 노폐물을 배출하고 혈압을 낮춰준다'],\n",
              " '아침': [' 특히, 아침식사는 단백질과 비타민이 풍부한 과일과 채소를 많이 섭취하는 것이 좋다',\n",
              "  ' 아침 식사를 거르지 않고 규칙적으로 운동을 하면 혈액순환에 도움을 줄 뿐만 아니라 신진대사를 촉진해 체내 노폐물을 배출하고 혈압을 낮춰준다',\n",
              "  ' 운동 후 바로 잠자리에 드는 것은 피해야 하며 특히 아침에 일어나면 몸이 피곤해지기 때문에 무리하게 움직이면 오히려 역효과가 날 수도 있다'],\n",
              " '운동': [' 아침 식사를 거르지 않고 규칙적으로 운동을 하면 혈액순환에 도움을 줄 뿐만 아니라 신진대사를 촉진해 체내 노폐물을 배출하고 혈압을 낮춰준다',\n",
              "  ' 운동은 하루에 10분 정도만 하는 게 좋으며 운동 후에는 반드시 스트레칭을 통해 근육량을 늘리고 유연성을 높여야 한다',\n",
              "  ' 운동 후 바로 잠자리에 드는 것은 피해야 하며 특히 아침에 일어나면 몸이 피곤해지기 때문에 무리하게 움직이면 오히려 역효과가 날 수도 있다'],\n",
              " '하루': [' 또한 하루 30분 이상 충분한 수면을 취하는 것도 도움이 된다',\n",
              "  ' 운동은 하루에 10분 정도만 하는 게 좋으며 운동 후에는 반드시 스트레칭을 통해 근육량을 늘리고 유연성을 높여야 한다']}"
            ]
          },
          "metadata": {},
          "execution_count": 26
        }
      ]
    },
    {
      "cell_type": "code",
      "metadata": {
        "id": "cYrgDQJDCdZA"
      },
      "source": [
        "keyword_sent1 = keyword_with_sentences[textrank_keywords[0][0]]\n",
        "keyword_sent2 = keyword_with_sentences[textrank_keywords[1][0]]\n",
        "keyword_sent3 = keyword_with_sentences[textrank_keywords[2][0]]"
      ],
      "execution_count": null,
      "outputs": []
    },
    {
      "cell_type": "code",
      "metadata": {
        "colab": {
          "base_uri": "https://localhost:8080/"
        },
        "id": "VCLEgZyMKKKS",
        "outputId": "bd023c3d-8728-42f1-a68c-eee02bba24f2"
      },
      "source": [
        "keyword_sent1 # 운동"
      ],
      "execution_count": null,
      "outputs": [
        {
          "output_type": "execute_result",
          "data": {
            "text/plain": [
              "[' 아침 식사를 거르지 않고 규칙적으로 운동을 하면 혈액순환에 도움을 줄 뿐만 아니라 신진대사를 촉진해 체내 노폐물을 배출하고 혈압을 낮춰준다',\n",
              " ' 운동은 하루에 10분 정도만 하는 게 좋으며 운동 후에는 반드시 스트레칭을 통해 근육량을 늘리고 유연성을 높여야 한다',\n",
              " ' 운동 후 바로 잠자리에 드는 것은 피해야 하며 특히 아침에 일어나면 몸이 피곤해지기 때문에 무리하게 움직이면 오히려 역효과가 날 수도 있다']"
            ]
          },
          "metadata": {},
          "execution_count": 30
        }
      ]
    },
    {
      "cell_type": "code",
      "metadata": {
        "colab": {
          "base_uri": "https://localhost:8080/"
        },
        "id": "xtI_mGNcJ6Z7",
        "outputId": "4d62704e-7b5c-4641-e5c3-0f6bbb7c6a19"
      },
      "source": [
        "keyword_sent2 # 아침"
      ],
      "execution_count": null,
      "outputs": [
        {
          "output_type": "execute_result",
          "data": {
            "text/plain": [
              "[' 특히, 아침식사는 단백질과 비타민이 풍부한 과일과 채소를 많이 섭취하는 것이 좋다',\n",
              " ' 아침 식사를 거르지 않고 규칙적으로 운동을 하면 혈액순환에 도움을 줄 뿐만 아니라 신진대사를 촉진해 체내 노폐물을 배출하고 혈압을 낮춰준다',\n",
              " ' 운동 후 바로 잠자리에 드는 것은 피해야 하며 특히 아침에 일어나면 몸이 피곤해지기 때문에 무리하게 움직이면 오히려 역효과가 날 수도 있다']"
            ]
          },
          "metadata": {},
          "execution_count": 31
        }
      ]
    },
    {
      "cell_type": "code",
      "metadata": {
        "colab": {
          "base_uri": "https://localhost:8080/"
        },
        "id": "oNSmgZdeKnsG",
        "outputId": "1b0fdc0c-5159-4c53-c33a-6586f1ebb2d2"
      },
      "source": [
        "keyword_sent3 # 도움"
      ],
      "execution_count": null,
      "outputs": [
        {
          "output_type": "execute_result",
          "data": {
            "text/plain": [
              "[' 또한 하루 30분 이상 충분한 수면을 취하는 것도 도움이 된다',\n",
              " ' 아침 식사를 거르지 않고 규칙적으로 운동을 하면 혈액순환에 도움을 줄 뿐만 아니라 신진대사를 촉진해 체내 노폐물을 배출하고 혈압을 낮춰준다']"
            ]
          },
          "metadata": {},
          "execution_count": 32
        }
      ]
    },
    {
      "cell_type": "code",
      "metadata": {
        "colab": {
          "base_uri": "https://localhost:8080/"
        },
        "id": "6_26z2FoM3J0",
        "outputId": "829b6773-4022-4da1-ff8c-be77c6712e86"
      },
      "source": [
        "# visualization\n",
        "for keyword in textrank_keywords:\n",
        "    print('-'*80)\n",
        "    print(f'키워드 \"{keyword[0]}\"이/가 포함된 문장')\n",
        "    print('-'*80)\n",
        "    for sent in keyword_with_sentences[keyword[0]]:\n",
        "        print('o',sent)\n",
        "        print()\n",
        "    print()"
      ],
      "execution_count": null,
      "outputs": [
        {
          "output_type": "stream",
          "name": "stdout",
          "text": [
            "--------------------------------------------------------------------------------\n",
            "키워드 \"운동\"이/가 포함된 문장\n",
            "--------------------------------------------------------------------------------\n",
            "o  아침 식사를 거르지 않고 규칙적으로 운동을 하면 혈액순환에 도움을 줄 뿐만 아니라 신진대사를 촉진해 체내 노폐물을 배출하고 혈압을 낮춰준다\n",
            "\n",
            "o  운동은 하루에 10분 정도만 하는 게 좋으며 운동 후에는 반드시 스트레칭을 통해 근육량을 늘리고 유연성을 높여야 한다\n",
            "\n",
            "o  운동 후 바로 잠자리에 드는 것은 피해야 하며 특히 아침에 일어나면 몸이 피곤해지기 때문에 무리하게 움직이면 오히려 역효과가 날 수도 있다\n",
            "\n",
            "\n",
            "--------------------------------------------------------------------------------\n",
            "키워드 \"아침\"이/가 포함된 문장\n",
            "--------------------------------------------------------------------------------\n",
            "o  특히, 아침식사는 단백질과 비타민이 풍부한 과일과 채소를 많이 섭취하는 것이 좋다\n",
            "\n",
            "o  아침 식사를 거르지 않고 규칙적으로 운동을 하면 혈액순환에 도움을 줄 뿐만 아니라 신진대사를 촉진해 체내 노폐물을 배출하고 혈압을 낮춰준다\n",
            "\n",
            "o  운동 후 바로 잠자리에 드는 것은 피해야 하며 특히 아침에 일어나면 몸이 피곤해지기 때문에 무리하게 움직이면 오히려 역효과가 날 수도 있다\n",
            "\n",
            "\n",
            "--------------------------------------------------------------------------------\n",
            "키워드 \"도움\"이/가 포함된 문장\n",
            "--------------------------------------------------------------------------------\n",
            "o  또한 하루 30분 이상 충분한 수면을 취하는 것도 도움이 된다\n",
            "\n",
            "o  아침 식사를 거르지 않고 규칙적으로 운동을 하면 혈액순환에 도움을 줄 뿐만 아니라 신진대사를 촉진해 체내 노폐물을 배출하고 혈압을 낮춰준다\n",
            "\n",
            "\n",
            "--------------------------------------------------------------------------------\n",
            "키워드 \"하루\"이/가 포함된 문장\n",
            "--------------------------------------------------------------------------------\n",
            "o  또한 하루 30분 이상 충분한 수면을 취하는 것도 도움이 된다\n",
            "\n",
            "o  운동은 하루에 10분 정도만 하는 게 좋으며 운동 후에는 반드시 스트레칭을 통해 근육량을 늘리고 유연성을 높여야 한다\n",
            "\n",
            "\n",
            "--------------------------------------------------------------------------------\n",
            "키워드 \"식사\"이/가 포함된 문장\n",
            "--------------------------------------------------------------------------------\n",
            "o  특히, 아침식사는 단백질과 비타민이 풍부한 과일과 채소를 많이 섭취하는 것이 좋다\n",
            "\n",
            "o  아침 식사를 거르지 않고 규칙적으로 운동을 하면 혈액순환에 도움을 줄 뿐만 아니라 신진대사를 촉진해 체내 노폐물을 배출하고 혈압을 낮춰준다\n",
            "\n",
            "\n"
          ]
        }
      ]
    },
    {
      "cell_type": "markdown",
      "metadata": {
        "id": "qabUWF7_b2Ta"
      },
      "source": [
        "## 키워드 포함된 문장 counter\n",
        "- 위 리스트를 보면.. 중복된 문장, 즉 중요한 키워드를 여럿 포함하고 있는 문장들이 있다.\n",
        "- 키워드가 가장 많이 들어있는 문장이 뭔지 보여주기!"
      ]
    },
    {
      "cell_type": "code",
      "metadata": {
        "id": "E1V6vvaTQJFx"
      },
      "source": [
        "sents_count = []\n",
        "for key in keyword_with_sentences.keys():\n",
        "    sents_count += keyword_with_sentences[key]"
      ],
      "execution_count": null,
      "outputs": []
    },
    {
      "cell_type": "code",
      "metadata": {
        "colab": {
          "base_uri": "https://localhost:8080/"
        },
        "id": "qPMSoSkOaDPY",
        "outputId": "97b0e530-b504-4a2b-e028-04ab73e52869"
      },
      "source": [
        "sents_count = Counter(sents_count)\n",
        "sents_count"
      ],
      "execution_count": null,
      "outputs": [
        {
          "output_type": "execute_result",
          "data": {
            "text/plain": [
              "Counter({' 또한 하루 30분 이상 충분한 수면을 취하는 것도 도움이 된다': 2,\n",
              "         ' 아침 식사를 거르지 않고 규칙적으로 운동을 하면 혈액순환에 도움을 줄 뿐만 아니라 신진대사를 촉진해 체내 노폐물을 배출하고 혈압을 낮춰준다': 4,\n",
              "         ' 운동 후 바로 잠자리에 드는 것은 피해야 하며 특히 아침에 일어나면 몸이 피곤해지기 때문에 무리하게 움직이면 오히려 역효과가 날 수도 있다': 2,\n",
              "         ' 운동은 하루에 10분 정도만 하는 게 좋으며 운동 후에는 반드시 스트레칭을 통해 근육량을 늘리고 유연성을 높여야 한다': 2,\n",
              "         ' 특히, 아침식사는 단백질과 비타민이 풍부한 과일과 채소를 많이 섭취하는 것이 좋다': 2})"
            ]
          },
          "metadata": {},
          "execution_count": 38
        }
      ]
    },
    {
      "cell_type": "code",
      "metadata": {
        "colab": {
          "base_uri": "https://localhost:8080/"
        },
        "id": "vL5rFEr1aDWD",
        "outputId": "55bd5d60-ce8d-4f57-810a-52c97979ac49"
      },
      "source": [
        "# 가장 키워드가 많이 들어간 문장 2개 추출\n",
        "sents_count.most_common(2)"
      ],
      "execution_count": null,
      "outputs": [
        {
          "output_type": "execute_result",
          "data": {
            "text/plain": [
              "[(' 아침 식사를 거르지 않고 규칙적으로 운동을 하면 혈액순환에 도움을 줄 뿐만 아니라 신진대사를 촉진해 체내 노폐물을 배출하고 혈압을 낮춰준다',\n",
              "  4),\n",
              " (' 운동은 하루에 10분 정도만 하는 게 좋으며 운동 후에는 반드시 스트레칭을 통해 근육량을 늘리고 유연성을 높여야 한다', 2)]"
            ]
          },
          "metadata": {},
          "execution_count": 39
        }
      ]
    },
    {
      "cell_type": "code",
      "metadata": {
        "id": "irHMA3UpVoYc"
      },
      "source": [
        ""
      ],
      "execution_count": null,
      "outputs": []
    },
    {
      "cell_type": "code",
      "metadata": {
        "colab": {
          "base_uri": "https://localhost:8080/",
          "height": 103
        },
        "id": "LG-qA2KSaDZq",
        "outputId": "20dbf50f-2cc4-4946-805a-c2abaceb6210"
      },
      "source": [
        "# 이쯤에서 원본 문장 다시 확인\n",
        "rawtext"
      ],
      "execution_count": null,
      "outputs": [
        {
          "output_type": "execute_result",
          "data": {
            "application/vnd.google.colaboratory.intrinsic+json": {
              "type": "string"
            },
            "text/plain": [
              "'근육이 커지기 위해서는 무엇보다 규칙적인 생활습관이 중요하다. 특히, 아침식사는 단백질과 비타민이 풍부한 과일과 채소를 많이 섭취하는 것이 좋다. 또한 하루 30분 이상 충분한 수면을 취하는 것도 도움이 된다. 아침 식사를 거르지 않고 규칙적으로 운동을 하면 혈액순환에 도움을 줄 뿐만 아니라 신진대사를 촉진해 체내 노폐물을 배출하고 혈압을 낮춰준다. 운동은 하루에 10분 정도만 하는 게 좋으며 운동 후에는 반드시 스트레칭을 통해 근육량을 늘리고 유연성을 높여야 한다. 운동 후 바로 잠자리에 드는 것은 피해야 하며 특히 아침에 일어나면 몸이 피곤해지기 때문에 무리하게 움직이면 오히려 역효과가 날 수도 있다.'"
            ]
          },
          "metadata": {},
          "execution_count": 40
        }
      ]
    },
    {
      "cell_type": "code",
      "metadata": {
        "id": "rB7_Y3cEnCij"
      },
      "source": [
        ""
      ],
      "execution_count": null,
      "outputs": []
    }
  ]
}