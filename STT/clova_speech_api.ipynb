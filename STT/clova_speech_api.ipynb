{
  "nbformat": 4,
  "nbformat_minor": 0,
  "metadata": {
    "colab": {
      "name": "clova_speech_api",
      "provenance": [],
      "collapsed_sections": []
    },
    "kernelspec": {
      "name": "python3",
      "display_name": "Python 3"
    },
    "language_info": {
      "name": "python"
    }
  },
  "cells": [
    {
      "cell_type": "markdown",
      "metadata": {
        "id": "xfK3Xh1PFtX_"
      },
      "source": [
        "> colab에서 테스트함"
      ]
    },
    {
      "cell_type": "code",
      "metadata": {
        "id": "4Gw5FV1YypAI",
        "colab": {
          "base_uri": "https://localhost:8080/",
          "height": 565
        },
        "outputId": "2589abce-390b-4f66-e216-20355f2425b6"
      },
      "source": [
        "!pip install boto3==1.6.19"
      ],
      "execution_count": null,
      "outputs": [
        {
          "output_type": "stream",
          "name": "stdout",
          "text": [
            "Collecting boto3==1.6.19\n",
            "  Downloading boto3-1.6.19-py2.py3-none-any.whl (128 kB)\n",
            "\u001b[K     |████████████████████████████████| 128 kB 5.1 MB/s \n",
            "\u001b[?25hCollecting botocore<1.10.0,>=1.9.19\n",
            "  Downloading botocore-1.9.23-py2.py3-none-any.whl (4.1 MB)\n",
            "\u001b[K     |████████████████████████████████| 4.1 MB 45.1 MB/s \n",
            "\u001b[?25hCollecting s3transfer<0.2.0,>=0.1.10\n",
            "  Downloading s3transfer-0.1.13-py2.py3-none-any.whl (59 kB)\n",
            "\u001b[K     |████████████████████████████████| 59 kB 7.2 MB/s \n",
            "\u001b[?25hCollecting jmespath<1.0.0,>=0.7.1\n",
            "  Downloading jmespath-0.10.0-py2.py3-none-any.whl (24 kB)\n",
            "Collecting python-dateutil<2.7.0,>=2.1\n",
            "  Downloading python_dateutil-2.6.1-py2.py3-none-any.whl (194 kB)\n",
            "\u001b[K     |████████████████████████████████| 194 kB 62.6 MB/s \n",
            "\u001b[?25hRequirement already satisfied: docutils>=0.10 in /usr/local/lib/python3.7/dist-packages (from botocore<1.10.0,>=1.9.19->boto3==1.6.19) (0.17.1)\n",
            "Requirement already satisfied: six>=1.5 in /usr/local/lib/python3.7/dist-packages (from python-dateutil<2.7.0,>=2.1->botocore<1.10.0,>=1.9.19->boto3==1.6.19) (1.15.0)\n",
            "Installing collected packages: python-dateutil, jmespath, botocore, s3transfer, boto3\n",
            "  Attempting uninstall: python-dateutil\n",
            "    Found existing installation: python-dateutil 2.8.2\n",
            "    Uninstalling python-dateutil-2.8.2:\n",
            "      Successfully uninstalled python-dateutil-2.8.2\n",
            "\u001b[31mERROR: pip's dependency resolver does not currently take into account all the packages that are installed. This behaviour is the source of the following dependency conflicts.\n",
            "pandas 1.1.5 requires python-dateutil>=2.7.3, but you have python-dateutil 2.6.1 which is incompatible.\n",
            "fbprophet 0.7.1 requires python-dateutil>=2.8.0, but you have python-dateutil 2.6.1 which is incompatible.\n",
            "albumentations 0.1.12 requires imgaug<0.2.7,>=0.2.5, but you have imgaug 0.2.9 which is incompatible.\u001b[0m\n",
            "Successfully installed boto3-1.6.19 botocore-1.9.23 jmespath-0.10.0 python-dateutil-2.6.1 s3transfer-0.1.13\n"
          ]
        },
        {
          "output_type": "display_data",
          "data": {
            "application/vnd.colab-display-data+json": {
              "pip_warning": {
                "packages": [
                  "dateutil"
                ]
              }
            }
          },
          "metadata": {}
        }
      ]
    },
    {
      "cell_type": "code",
      "metadata": {
        "id": "ysGZ4Iteygkf"
      },
      "source": [
        "import json\n",
        "import requests\n",
        "import boto3"
      ],
      "execution_count": null,
      "outputs": []
    },
    {
      "cell_type": "markdown",
      "metadata": {
        "id": "nIrJ9IZvyjHi"
      },
      "source": [
        "## Speech Recognition"
      ]
    },
    {
      "cell_type": "code",
      "metadata": {
        "id": "unvKeIh-j1f-"
      },
      "source": [
        "# clovaspeech client class\n",
        "import requests\n",
        "import json\n",
        "\n",
        "class ClovaSpeechClient:\n",
        "    ########### credential ###########\n",
        "    invoke_url = INVOKE_URL\n",
        "    secret = SERCRET_KEY\n",
        "    ########### ########### ###########\n",
        "\n",
        "    def req_upload(self, file, completion, callback=None, userdata=None, forbiddens=None, boostings=None,\n",
        "                   wordAlignment=True, fullText=True, diarization=None):\n",
        "        request_body = {\n",
        "            'language': 'enko',\n",
        "            'completion': completion,\n",
        "            'callback': callback,\n",
        "            'userdata': userdata,\n",
        "            'wordAlignment': wordAlignment,\n",
        "            'fullText': fullText,\n",
        "            'forbiddens': forbiddens,\n",
        "            'boostings': boostings,\n",
        "            'diarization': diarization,\n",
        "        }\n",
        "        headers = {\n",
        "            'Accept': 'application/json;UTF-8',\n",
        "            'X-CLOVASPEECH-API-KEY': self.secret\n",
        "        }\n",
        "        print(json.dumps(request_body, ensure_ascii=False).encode('UTF-8'))\n",
        "        files = {\n",
        "            'media': open(file, 'rb'),\n",
        "            'params': (None, json.dumps(request_body, ensure_ascii=False).encode('UTF-8'), 'application/json')\n",
        "        }\n",
        "        response = requests.post(headers=headers, url=self.invoke_url + '/recognizer/upload', files=files)\n",
        "        return response\n",
        "\n",
        "\n",
        "# response 객체에서 text만 추출하는 함수\n",
        "def resp_to_text(resp):\n",
        "    txt = ''\n",
        "    for i in json.loads(resp.text)['segments']:\n",
        "        txt += i['text'] + ' '\n",
        "    txt = txt.strip()\n",
        "    \n",
        "    return txt"
      ],
      "execution_count": null,
      "outputs": []
    },
    {
      "cell_type": "code",
      "metadata": {
        "id": "eTFShrDTUQVJ"
      },
      "source": [
        "clova = ClovaSpeechClient()"
      ],
      "execution_count": null,
      "outputs": []
    },
    {
      "cell_type": "code",
      "metadata": {
        "id": "uCquyS6yaUwV",
        "colab": {
          "base_uri": "https://localhost:8080/"
        },
        "outputId": "852f840b-52e0-4128-d133-5d541f066aaf"
      },
      "source": [
        "res = clova.req_upload('/content/drive/MyDrive/test/3.wav', completion='sync')"
      ],
      "execution_count": null,
      "outputs": [
        {
          "output_type": "stream",
          "name": "stdout",
          "text": [
            "b'{\"language\": \"enko\", \"completion\": \"sync\", \"callback\": null, \"userdata\": null, \"wordAlignment\": true, \"fullText\": true, \"forbiddens\": null, \"boostings\": null, \"diarization\": null}'\n"
          ]
        }
      ]
    },
    {
      "cell_type": "code",
      "metadata": {
        "colab": {
          "base_uri": "https://localhost:8080/",
          "height": 52
        },
        "id": "JubazA10kwbI",
        "outputId": "cf0c6ec0-9d10-44b9-b312-5474a0ee3c4e"
      },
      "source": [
        "resp_to_text(res)"
      ],
      "execution_count": null,
      "outputs": [
        {
          "output_type": "execute_result",
          "data": {
            "application/vnd.google.colaboratory.intrinsic+json": {
              "type": "string"
            },
            "text/plain": [
              "'우선 회사 규정을 따르겠습니다 처음 사회생활을 하게 되면서 저는 연봉보다는 정말 제가 하고 싶은 일을 하고자 합니다 하지만 회사에서 금액을 말씀하시면 5천만 원 정도 희망합니다 일반적으로 대 초임 연봉 수준으로 알고 있으며 지원하기 전 기업 분석을 해 보니 제가 말씀드린 정도라고 알고 있습니다'"
            ]
          },
          "metadata": {},
          "execution_count": 7
        }
      ]
    },
    {
      "cell_type": "code",
      "metadata": {
        "id": "CCyRAn04HmW_"
      },
      "source": [
        ""
      ],
      "execution_count": null,
      "outputs": []
    }
  ]
}